{
  "nbformat": 4,
  "nbformat_minor": 0,
  "metadata": {
    "colab": {
      "provenance": []
    },
    "kernelspec": {
      "name": "python3",
      "display_name": "Python 3"
    },
    "language_info": {
      "name": "python"
    }
  },
  "cells": [
    {
      "cell_type": "markdown",
      "source": [
        "# **6. Kernel SVM**"
      ],
      "metadata": {
        "id": "ikiWAfsYjwLV"
      }
    },
    {
      "cell_type": "markdown",
      "source": [
        "### **Problem Statement**  \n",
        "\n",
        "Classify customer satisfaction (`1`: Satisfied, `0`: Not Satisfied) based on survey responses using **Kernel SVM** with an RBF kernel.  \n",
        "\n",
        "---\n",
        "\n",
        "### **Dataset Overview**  \n",
        "**DataSetLink**: https://www.kaggle.com/datasets/ahmedaliraja/customer-satisfaction-10k\n",
        "#### **Attributes**:  \n",
        "1. **Support Rating**: Customer rating of the support experience (scale: 1–5).  \n",
        "2. **Quality Rating**: Customer rating of the food quality (scale: 1–5).  \n",
        "3. **Delivery Rating**: Customer rating of the delivery speed (scale: 1–5).  \n",
        "4. **Satisfaction** (Target):  \n",
        "   - `1`: Satisfied  \n",
        "   - `0`: Not Satisfied  \n",
        "\n",
        "---\n",
        "\n",
        "### **Instructions**  \n",
        "\n",
        "\n",
        "#### **1. Kernel SVM Model**  \n",
        "   - Train an **SVM** classifier with an **RBF kernel**.  \n",
        "\n",
        "#### **2. Hyperparameter Tuning**  \n",
        "   - Perform **Grid Search** to optimize:  \n",
        "     - `C`: Regularization parameter (e.g., test values in `[0.1, 1, 10, 100]`).  \n",
        "     - `gamma`: Kernel coefficient (e.g., test values in `[0.01, 0.1, 1, 10]`).    \n",
        "\n",
        "#### **3. Model Evaluation**  \n",
        "   - Evaluate the model on the test set using:  \n",
        "     - **Precision**  \n",
        "     - **Recall**  \n",
        "     - **F1-Score**  \n",
        "   - Plot the **confusion matrix** for further insights.  \n",
        "\n",
        "  \n",
        "\n",
        "#### **4. Report Writing**  \n",
        "   - Summarize key findings:  \n",
        "     - Best hyperparameters (`C` and `gamma`).  \n",
        "     - Model performance (Precision, Recall, F1-Score).   \n",
        "   - Provide recommendations for improving customer satisfaction based on the model's predictions.  \n",
        "\n"
      ],
      "metadata": {
        "id": "Lo75jxMMkZ-P"
      }
    },
    {
      "cell_type": "code",
      "source": [
        "import pandas as pd\n",
        "data=pd.read_csv(\"/content/Customer-survey-data.csv\")\n",
        "data.head()\n",
        "\n",
        "\n"
      ],
      "metadata": {
        "colab": {
          "base_uri": "https://localhost:8080/",
          "height": 258
        },
        "id": "MJFRzj1T11Rv",
        "outputId": "d8b362c4-ed22-4112-93c9-6152407f555a"
      },
      "execution_count": null,
      "outputs": [
        {
          "output_type": "execute_result",
          "data": {
            "text/plain": [
              "   Customer  \\\n",
              "0         1   \n",
              "1         2   \n",
              "2         3   \n",
              "3         4   \n",
              "4         5   \n",
              "\n",
              "   How satisfied were you with your overall delivery experience at Ali?                    1-5 where 1 = extremely dissatisfied and 5 = extremely satisfied  \\\n",
              "0                                                5.0                                                                                                          \n",
              "1                                                3.0                                                                                                          \n",
              "2                                                4.0                                                                                                          \n",
              "3                                                5.0                                                                                                          \n",
              "4                                                2.0                                                                                                          \n",
              "\n",
              "   How satisfied were you with the quality of the food at Alis?                             1-5 where 1 = extremely dissatisfied and 5 = extremely satisfied  \\\n",
              "0                                                3.0                                                                                                           \n",
              "1                                                4.0                                                                                                           \n",
              "2                                                5.0                                                                                                           \n",
              "3                                                3.0                                                                                                           \n",
              "4                                                5.0                                                                                                           \n",
              "\n",
              "   How satisfied were you with the speed of delivery at Alis?                                1-5 where 1 = extremely dissatisfied and 5 = extremely satisfied  \\\n",
              "0                                                4.0                                                                                                            \n",
              "1                                                3.0                                                                                                            \n",
              "2                                                2.0                                                                                                            \n",
              "3                                                4.0                                                                                                            \n",
              "4                                                1.0                                                                                                            \n",
              "\n",
              "  Was your order accurate? Please respond yes or no.  \n",
              "0                                                Yes  \n",
              "1                                                Yes  \n",
              "2                                                Yes  \n",
              "3                                                Yes  \n",
              "4                                                Yes  "
            ],
            "text/html": [
              "\n",
              "  <div id=\"df-eb7be784-287a-4c6a-9d0f-d548770c60e0\" class=\"colab-df-container\">\n",
              "    <div>\n",
              "<style scoped>\n",
              "    .dataframe tbody tr th:only-of-type {\n",
              "        vertical-align: middle;\n",
              "    }\n",
              "\n",
              "    .dataframe tbody tr th {\n",
              "        vertical-align: top;\n",
              "    }\n",
              "\n",
              "    .dataframe thead th {\n",
              "        text-align: right;\n",
              "    }\n",
              "</style>\n",
              "<table border=\"1\" class=\"dataframe\">\n",
              "  <thead>\n",
              "    <tr style=\"text-align: right;\">\n",
              "      <th></th>\n",
              "      <th>Customer</th>\n",
              "      <th>How satisfied were you with your overall delivery experience at Ali?                    1-5 where 1 = extremely dissatisfied and 5 = extremely satisfied</th>\n",
              "      <th>How satisfied were you with the quality of the food at Alis?                             1-5 where 1 = extremely dissatisfied and 5 = extremely satisfied</th>\n",
              "      <th>How satisfied were you with the speed of delivery at Alis?                                1-5 where 1 = extremely dissatisfied and 5 = extremely satisfied</th>\n",
              "      <th>Was your order accurate? Please respond yes or no.</th>\n",
              "    </tr>\n",
              "  </thead>\n",
              "  <tbody>\n",
              "    <tr>\n",
              "      <th>0</th>\n",
              "      <td>1</td>\n",
              "      <td>5.0</td>\n",
              "      <td>3.0</td>\n",
              "      <td>4.0</td>\n",
              "      <td>Yes</td>\n",
              "    </tr>\n",
              "    <tr>\n",
              "      <th>1</th>\n",
              "      <td>2</td>\n",
              "      <td>3.0</td>\n",
              "      <td>4.0</td>\n",
              "      <td>3.0</td>\n",
              "      <td>Yes</td>\n",
              "    </tr>\n",
              "    <tr>\n",
              "      <th>2</th>\n",
              "      <td>3</td>\n",
              "      <td>4.0</td>\n",
              "      <td>5.0</td>\n",
              "      <td>2.0</td>\n",
              "      <td>Yes</td>\n",
              "    </tr>\n",
              "    <tr>\n",
              "      <th>3</th>\n",
              "      <td>4</td>\n",
              "      <td>5.0</td>\n",
              "      <td>3.0</td>\n",
              "      <td>4.0</td>\n",
              "      <td>Yes</td>\n",
              "    </tr>\n",
              "    <tr>\n",
              "      <th>4</th>\n",
              "      <td>5</td>\n",
              "      <td>2.0</td>\n",
              "      <td>5.0</td>\n",
              "      <td>1.0</td>\n",
              "      <td>Yes</td>\n",
              "    </tr>\n",
              "  </tbody>\n",
              "</table>\n",
              "</div>\n",
              "    <div class=\"colab-df-buttons\">\n",
              "\n",
              "  <div class=\"colab-df-container\">\n",
              "    <button class=\"colab-df-convert\" onclick=\"convertToInteractive('df-eb7be784-287a-4c6a-9d0f-d548770c60e0')\"\n",
              "            title=\"Convert this dataframe to an interactive table.\"\n",
              "            style=\"display:none;\">\n",
              "\n",
              "  <svg xmlns=\"http://www.w3.org/2000/svg\" height=\"24px\" viewBox=\"0 -960 960 960\">\n",
              "    <path d=\"M120-120v-720h720v720H120Zm60-500h600v-160H180v160Zm220 220h160v-160H400v160Zm0 220h160v-160H400v160ZM180-400h160v-160H180v160Zm440 0h160v-160H620v160ZM180-180h160v-160H180v160Zm440 0h160v-160H620v160Z\"/>\n",
              "  </svg>\n",
              "    </button>\n",
              "\n",
              "  <style>\n",
              "    .colab-df-container {\n",
              "      display:flex;\n",
              "      gap: 12px;\n",
              "    }\n",
              "\n",
              "    .colab-df-convert {\n",
              "      background-color: #E8F0FE;\n",
              "      border: none;\n",
              "      border-radius: 50%;\n",
              "      cursor: pointer;\n",
              "      display: none;\n",
              "      fill: #1967D2;\n",
              "      height: 32px;\n",
              "      padding: 0 0 0 0;\n",
              "      width: 32px;\n",
              "    }\n",
              "\n",
              "    .colab-df-convert:hover {\n",
              "      background-color: #E2EBFA;\n",
              "      box-shadow: 0px 1px 2px rgba(60, 64, 67, 0.3), 0px 1px 3px 1px rgba(60, 64, 67, 0.15);\n",
              "      fill: #174EA6;\n",
              "    }\n",
              "\n",
              "    .colab-df-buttons div {\n",
              "      margin-bottom: 4px;\n",
              "    }\n",
              "\n",
              "    [theme=dark] .colab-df-convert {\n",
              "      background-color: #3B4455;\n",
              "      fill: #D2E3FC;\n",
              "    }\n",
              "\n",
              "    [theme=dark] .colab-df-convert:hover {\n",
              "      background-color: #434B5C;\n",
              "      box-shadow: 0px 1px 3px 1px rgba(0, 0, 0, 0.15);\n",
              "      filter: drop-shadow(0px 1px 2px rgba(0, 0, 0, 0.3));\n",
              "      fill: #FFFFFF;\n",
              "    }\n",
              "  </style>\n",
              "\n",
              "    <script>\n",
              "      const buttonEl =\n",
              "        document.querySelector('#df-eb7be784-287a-4c6a-9d0f-d548770c60e0 button.colab-df-convert');\n",
              "      buttonEl.style.display =\n",
              "        google.colab.kernel.accessAllowed ? 'block' : 'none';\n",
              "\n",
              "      async function convertToInteractive(key) {\n",
              "        const element = document.querySelector('#df-eb7be784-287a-4c6a-9d0f-d548770c60e0');\n",
              "        const dataTable =\n",
              "          await google.colab.kernel.invokeFunction('convertToInteractive',\n",
              "                                                    [key], {});\n",
              "        if (!dataTable) return;\n",
              "\n",
              "        const docLinkHtml = 'Like what you see? Visit the ' +\n",
              "          '<a target=\"_blank\" href=https://colab.research.google.com/notebooks/data_table.ipynb>data table notebook</a>'\n",
              "          + ' to learn more about interactive tables.';\n",
              "        element.innerHTML = '';\n",
              "        dataTable['output_type'] = 'display_data';\n",
              "        await google.colab.output.renderOutput(dataTable, element);\n",
              "        const docLink = document.createElement('div');\n",
              "        docLink.innerHTML = docLinkHtml;\n",
              "        element.appendChild(docLink);\n",
              "      }\n",
              "    </script>\n",
              "  </div>\n",
              "\n",
              "\n",
              "<div id=\"df-ea6bc06c-98ac-4a5c-bea8-ada872e8f0bd\">\n",
              "  <button class=\"colab-df-quickchart\" onclick=\"quickchart('df-ea6bc06c-98ac-4a5c-bea8-ada872e8f0bd')\"\n",
              "            title=\"Suggest charts\"\n",
              "            style=\"display:none;\">\n",
              "\n",
              "<svg xmlns=\"http://www.w3.org/2000/svg\" height=\"24px\"viewBox=\"0 0 24 24\"\n",
              "     width=\"24px\">\n",
              "    <g>\n",
              "        <path d=\"M19 3H5c-1.1 0-2 .9-2 2v14c0 1.1.9 2 2 2h14c1.1 0 2-.9 2-2V5c0-1.1-.9-2-2-2zM9 17H7v-7h2v7zm4 0h-2V7h2v10zm4 0h-2v-4h2v4z\"/>\n",
              "    </g>\n",
              "</svg>\n",
              "  </button>\n",
              "\n",
              "<style>\n",
              "  .colab-df-quickchart {\n",
              "      --bg-color: #E8F0FE;\n",
              "      --fill-color: #1967D2;\n",
              "      --hover-bg-color: #E2EBFA;\n",
              "      --hover-fill-color: #174EA6;\n",
              "      --disabled-fill-color: #AAA;\n",
              "      --disabled-bg-color: #DDD;\n",
              "  }\n",
              "\n",
              "  [theme=dark] .colab-df-quickchart {\n",
              "      --bg-color: #3B4455;\n",
              "      --fill-color: #D2E3FC;\n",
              "      --hover-bg-color: #434B5C;\n",
              "      --hover-fill-color: #FFFFFF;\n",
              "      --disabled-bg-color: #3B4455;\n",
              "      --disabled-fill-color: #666;\n",
              "  }\n",
              "\n",
              "  .colab-df-quickchart {\n",
              "    background-color: var(--bg-color);\n",
              "    border: none;\n",
              "    border-radius: 50%;\n",
              "    cursor: pointer;\n",
              "    display: none;\n",
              "    fill: var(--fill-color);\n",
              "    height: 32px;\n",
              "    padding: 0;\n",
              "    width: 32px;\n",
              "  }\n",
              "\n",
              "  .colab-df-quickchart:hover {\n",
              "    background-color: var(--hover-bg-color);\n",
              "    box-shadow: 0 1px 2px rgba(60, 64, 67, 0.3), 0 1px 3px 1px rgba(60, 64, 67, 0.15);\n",
              "    fill: var(--button-hover-fill-color);\n",
              "  }\n",
              "\n",
              "  .colab-df-quickchart-complete:disabled,\n",
              "  .colab-df-quickchart-complete:disabled:hover {\n",
              "    background-color: var(--disabled-bg-color);\n",
              "    fill: var(--disabled-fill-color);\n",
              "    box-shadow: none;\n",
              "  }\n",
              "\n",
              "  .colab-df-spinner {\n",
              "    border: 2px solid var(--fill-color);\n",
              "    border-color: transparent;\n",
              "    border-bottom-color: var(--fill-color);\n",
              "    animation:\n",
              "      spin 1s steps(1) infinite;\n",
              "  }\n",
              "\n",
              "  @keyframes spin {\n",
              "    0% {\n",
              "      border-color: transparent;\n",
              "      border-bottom-color: var(--fill-color);\n",
              "      border-left-color: var(--fill-color);\n",
              "    }\n",
              "    20% {\n",
              "      border-color: transparent;\n",
              "      border-left-color: var(--fill-color);\n",
              "      border-top-color: var(--fill-color);\n",
              "    }\n",
              "    30% {\n",
              "      border-color: transparent;\n",
              "      border-left-color: var(--fill-color);\n",
              "      border-top-color: var(--fill-color);\n",
              "      border-right-color: var(--fill-color);\n",
              "    }\n",
              "    40% {\n",
              "      border-color: transparent;\n",
              "      border-right-color: var(--fill-color);\n",
              "      border-top-color: var(--fill-color);\n",
              "    }\n",
              "    60% {\n",
              "      border-color: transparent;\n",
              "      border-right-color: var(--fill-color);\n",
              "    }\n",
              "    80% {\n",
              "      border-color: transparent;\n",
              "      border-right-color: var(--fill-color);\n",
              "      border-bottom-color: var(--fill-color);\n",
              "    }\n",
              "    90% {\n",
              "      border-color: transparent;\n",
              "      border-bottom-color: var(--fill-color);\n",
              "    }\n",
              "  }\n",
              "</style>\n",
              "\n",
              "  <script>\n",
              "    async function quickchart(key) {\n",
              "      const quickchartButtonEl =\n",
              "        document.querySelector('#' + key + ' button');\n",
              "      quickchartButtonEl.disabled = true;  // To prevent multiple clicks.\n",
              "      quickchartButtonEl.classList.add('colab-df-spinner');\n",
              "      try {\n",
              "        const charts = await google.colab.kernel.invokeFunction(\n",
              "            'suggestCharts', [key], {});\n",
              "      } catch (error) {\n",
              "        console.error('Error during call to suggestCharts:', error);\n",
              "      }\n",
              "      quickchartButtonEl.classList.remove('colab-df-spinner');\n",
              "      quickchartButtonEl.classList.add('colab-df-quickchart-complete');\n",
              "    }\n",
              "    (() => {\n",
              "      let quickchartButtonEl =\n",
              "        document.querySelector('#df-ea6bc06c-98ac-4a5c-bea8-ada872e8f0bd button');\n",
              "      quickchartButtonEl.style.display =\n",
              "        google.colab.kernel.accessAllowed ? 'block' : 'none';\n",
              "    })();\n",
              "  </script>\n",
              "</div>\n",
              "\n",
              "    </div>\n",
              "  </div>\n"
            ],
            "application/vnd.google.colaboratory.intrinsic+json": {
              "type": "dataframe",
              "variable_name": "data",
              "summary": "{\n  \"name\": \"data\",\n  \"rows\": 10616,\n  \"fields\": [\n    {\n      \"column\": \"Customer\",\n      \"properties\": {\n        \"dtype\": \"number\",\n        \"std\": 3064,\n        \"min\": 1,\n        \"max\": 10616,\n        \"num_unique_values\": 10616,\n        \"samples\": [\n          9602,\n          6335,\n          3661\n        ],\n        \"semantic_type\": \"\",\n        \"description\": \"\"\n      }\n    },\n    {\n      \"column\": \"How satisfied were you with your overall delivery experience at Ali?                    1-5 where 1 = extremely dissatisfied and 5 = extremely satisfied\",\n      \"properties\": {\n        \"dtype\": \"number\",\n        \"std\": 1.4197541960450881,\n        \"min\": 1.0,\n        \"max\": 5.0,\n        \"num_unique_values\": 5,\n        \"samples\": [\n          3.0,\n          1.0,\n          4.0\n        ],\n        \"semantic_type\": \"\",\n        \"description\": \"\"\n      }\n    },\n    {\n      \"column\": \"How satisfied were you with the quality of the food at Alis?                             1-5 where 1 = extremely dissatisfied and 5 = extremely satisfied\",\n      \"properties\": {\n        \"dtype\": \"number\",\n        \"std\": 1.4147094509564127,\n        \"min\": 1.0,\n        \"max\": 5.0,\n        \"num_unique_values\": 5,\n        \"samples\": [\n          4.0,\n          1.0,\n          5.0\n        ],\n        \"semantic_type\": \"\",\n        \"description\": \"\"\n      }\n    },\n    {\n      \"column\": \"How satisfied were you with the speed of delivery at Alis?                                1-5 where 1 = extremely dissatisfied and 5 = extremely satisfied\",\n      \"properties\": {\n        \"dtype\": \"number\",\n        \"std\": 1.4089179279879742,\n        \"min\": 1.0,\n        \"max\": 5.0,\n        \"num_unique_values\": 5,\n        \"samples\": [\n          3.0,\n          5.0,\n          2.0\n        ],\n        \"semantic_type\": \"\",\n        \"description\": \"\"\n      }\n    },\n    {\n      \"column\": \"Was your order accurate? Please respond yes or no.\",\n      \"properties\": {\n        \"dtype\": \"category\",\n        \"num_unique_values\": 2,\n        \"samples\": [\n          \"No\",\n          \"Yes\"\n        ],\n        \"semantic_type\": \"\",\n        \"description\": \"\"\n      }\n    }\n  ]\n}"
            }
          },
          "metadata": {},
          "execution_count": 4
        }
      ]
    },
    {
      "cell_type": "code",
      "source": [
        "# Rename columns for convenience\n",
        "data.columns = [\n",
        "    \"CustomerID\", \"DeliverySatisfaction\", \"FoodQuality\", \"DeliverySpeed\", \"OrderAccuracy\"\n",
        "]\n",
        "\n",
        "# Map \"Yes\" to 1 and \"No\" to 0 in the target column\n",
        "data[\"OrderAccuracy\"] = data[\"OrderAccuracy\"].map({\"Yes\": 1, \"No\": 0})\n",
        "\n",
        "# Check for missing values\n",
        "print(data.isnull().sum())\n",
        "\n",
        "# Drop CustomerID (not a feature) and prepare features (X) and target (y)\n",
        "X = data[[\"DeliverySatisfaction\", \"FoodQuality\", \"DeliverySpeed\"]]\n",
        "y = data[\"OrderAccuracy\"]\n",
        "\n",
        "# Display cleaned data head\n",
        "print(data.head())"
      ],
      "metadata": {
        "colab": {
          "base_uri": "https://localhost:8080/"
        },
        "id": "wHAnPpw3122M",
        "outputId": "549d4a12-6d6b-4fd1-f758-dbb19ba423be"
      },
      "execution_count": null,
      "outputs": [
        {
          "output_type": "stream",
          "name": "stdout",
          "text": [
            "CustomerID                0\n",
            "DeliverySatisfaction    418\n",
            "FoodQuality             252\n",
            "DeliverySpeed           239\n",
            "OrderAccuracy           660\n",
            "dtype: int64\n",
            "   CustomerID  DeliverySatisfaction  FoodQuality  DeliverySpeed  OrderAccuracy\n",
            "0           1                   5.0          3.0            4.0            1.0\n",
            "1           2                   3.0          4.0            3.0            1.0\n",
            "2           3                   4.0          5.0            2.0            1.0\n",
            "3           4                   5.0          3.0            4.0            1.0\n",
            "4           5                   2.0          5.0            1.0            1.0\n"
          ]
        }
      ]
    },
    {
      "cell_type": "code",
      "source": [
        "# Drop rows where OrderAccuracy is missing\n",
        "data.dropna(subset=[\"OrderAccuracy\"], inplace=True)\n",
        "\n",
        "# Check if there are still any missing values\n",
        "print(data.isnull().sum())\n"
      ],
      "metadata": {
        "colab": {
          "base_uri": "https://localhost:8080/"
        },
        "id": "0shmyBze7XqT",
        "outputId": "465b6cbc-6c09-491f-bfed-52d02194b57f"
      },
      "execution_count": null,
      "outputs": [
        {
          "output_type": "stream",
          "name": "stdout",
          "text": [
            "CustomerID                0\n",
            "DeliverySatisfaction    410\n",
            "FoodQuality             232\n",
            "DeliverySpeed           221\n",
            "OrderAccuracy             0\n",
            "dtype: int64\n"
          ]
        }
      ]
    },
    {
      "cell_type": "code",
      "source": [
        "# Impute missing values with the mean of each column\n",
        "data[\"DeliverySatisfaction\"].fillna(data[\"DeliverySatisfaction\"].mean(), inplace=True)\n",
        "data[\"FoodQuality\"].fillna(data[\"FoodQuality\"].mean(), inplace=True)\n",
        "data[\"DeliverySpeed\"].fillna(data[\"DeliverySpeed\"].mean(), inplace=True)\n",
        "\n",
        "# Check if there are still any missing values\n",
        "print(data.isnull().sum())\n"
      ],
      "metadata": {
        "colab": {
          "base_uri": "https://localhost:8080/"
        },
        "id": "m-pFAqvs6Sxh",
        "outputId": "daa90ede-a217-4db4-edc2-c92f25fa52f8"
      },
      "execution_count": null,
      "outputs": [
        {
          "output_type": "stream",
          "name": "stdout",
          "text": [
            "CustomerID              0\n",
            "DeliverySatisfaction    0\n",
            "FoodQuality             0\n",
            "DeliverySpeed           0\n",
            "OrderAccuracy           0\n",
            "dtype: int64\n"
          ]
        },
        {
          "output_type": "stream",
          "name": "stderr",
          "text": [
            "<ipython-input-16-4d1ce8dbcfbc>:2: FutureWarning: A value is trying to be set on a copy of a DataFrame or Series through chained assignment using an inplace method.\n",
            "The behavior will change in pandas 3.0. This inplace method will never work because the intermediate object on which we are setting values always behaves as a copy.\n",
            "\n",
            "For example, when doing 'df[col].method(value, inplace=True)', try using 'df.method({col: value}, inplace=True)' or df[col] = df[col].method(value) instead, to perform the operation inplace on the original object.\n",
            "\n",
            "\n",
            "  data[\"DeliverySatisfaction\"].fillna(data[\"DeliverySatisfaction\"].mean(), inplace=True)\n",
            "<ipython-input-16-4d1ce8dbcfbc>:3: FutureWarning: A value is trying to be set on a copy of a DataFrame or Series through chained assignment using an inplace method.\n",
            "The behavior will change in pandas 3.0. This inplace method will never work because the intermediate object on which we are setting values always behaves as a copy.\n",
            "\n",
            "For example, when doing 'df[col].method(value, inplace=True)', try using 'df.method({col: value}, inplace=True)' or df[col] = df[col].method(value) instead, to perform the operation inplace on the original object.\n",
            "\n",
            "\n",
            "  data[\"FoodQuality\"].fillna(data[\"FoodQuality\"].mean(), inplace=True)\n",
            "<ipython-input-16-4d1ce8dbcfbc>:4: FutureWarning: A value is trying to be set on a copy of a DataFrame or Series through chained assignment using an inplace method.\n",
            "The behavior will change in pandas 3.0. This inplace method will never work because the intermediate object on which we are setting values always behaves as a copy.\n",
            "\n",
            "For example, when doing 'df[col].method(value, inplace=True)', try using 'df.method({col: value}, inplace=True)' or df[col] = df[col].method(value) instead, to perform the operation inplace on the original object.\n",
            "\n",
            "\n",
            "  data[\"DeliverySpeed\"].fillna(data[\"DeliverySpeed\"].mean(), inplace=True)\n"
          ]
        }
      ]
    },
    {
      "cell_type": "code",
      "source": [
        "from sklearn.model_selection import train_test_split\n",
        "\n",
        "# Prepare features (X) and target (y)\n",
        "X = data[[\"DeliverySatisfaction\", \"FoodQuality\", \"DeliverySpeed\"]]\n",
        "y = data[\"OrderAccuracy\"]\n",
        "\n",
        "# Split the data into training and testing sets\n",
        "X_train, X_test, y_train, y_test = train_test_split(X, y, test_size=0.2, random_state=42)\n",
        "\n",
        "# Display the shapes of X_train and y_train\n",
        "print(f\"X_train shape: {X_train.shape}, y_train shape: {y_train.shape}\")\n"
      ],
      "metadata": {
        "colab": {
          "base_uri": "https://localhost:8080/"
        },
        "id": "V3s4XMl47du_",
        "outputId": "00cc77c3-6488-4d76-b36b-8ba3af28861c"
      },
      "execution_count": null,
      "outputs": [
        {
          "output_type": "stream",
          "name": "stdout",
          "text": [
            "X_train shape: (7964, 3), y_train shape: (7964,)\n"
          ]
        }
      ]
    },
    {
      "cell_type": "code",
      "source": [
        "from sklearn.preprocessing import StandardScaler\n",
        "\n",
        "# Standardize the features\n",
        "scaler = StandardScaler()\n",
        "X_train = scaler.fit_transform(X_train)\n",
        "X_test = scaler.transform(X_test)\n"
      ],
      "metadata": {
        "id": "PMBher5w7j-i"
      },
      "execution_count": null,
      "outputs": []
    },
    {
      "cell_type": "code",
      "source": [
        "from sklearn.svm import SVC\n",
        "\n",
        "# Initialize the SVM classifier with RBF kernel\n",
        "svm = SVC(kernel='rbf', random_state=42)\n",
        "\n",
        "# Train the model\n",
        "svm.fit(X_train, y_train)\n",
        "\n",
        "# Make predictions on the test set\n",
        "y_pred = svm.predict(X_test)\n",
        "\n",
        "# Check the first few predictions\n",
        "print(f\"Predictions: {y_pred[:5]}\")\n"
      ],
      "metadata": {
        "colab": {
          "base_uri": "https://localhost:8080/"
        },
        "id": "cTHvGCa-7mWI",
        "outputId": "0b647c4d-e808-4b1d-f580-2d7270452c95"
      },
      "execution_count": null,
      "outputs": [
        {
          "output_type": "stream",
          "name": "stdout",
          "text": [
            "Predictions: [1. 1. 1. 1. 1.]\n"
          ]
        }
      ]
    },
    {
      "cell_type": "code",
      "source": [
        "from sklearn.metrics import precision_score, recall_score, f1_score, confusion_matrix\n",
        "import seaborn as sns\n",
        "import matplotlib.pyplot as plt\n",
        "\n",
        "# Evaluate model performance\n",
        "precision = precision_score(y_test, y_pred)\n",
        "recall = recall_score(y_test, y_pred)\n",
        "f1 = f1_score(y_test, y_pred)\n",
        "\n",
        "# Display the evaluation metrics\n",
        "print(f\"Precision: {precision}\")\n",
        "print(f\"Recall: {recall}\")\n",
        "print(f\"F1-Score: {f1}\")\n",
        "\n",
        "# Confusion Matrix\n",
        "cm = confusion_matrix(y_test, y_pred)\n",
        "\n",
        "# Plot the confusion matrix\n",
        "sns.heatmap(cm, annot=True, fmt=\"d\", cmap=\"Blues\", xticklabels=[\"Not Satisfied\", \"Satisfied\"], yticklabels=[\"Not Satisfied\", \"Satisfied\"])\n",
        "plt.ylabel('Actual')\n",
        "plt.xlabel('Predicted')\n",
        "plt.title('Confusion Matrix')\n",
        "plt.show()\n"
      ],
      "metadata": {
        "colab": {
          "base_uri": "https://localhost:8080/",
          "height": 524
        },
        "id": "VWIYOmSg7oBv",
        "outputId": "aae303d4-29f9-426c-c7f8-c50b9cd88c2c"
      },
      "execution_count": null,
      "outputs": [
        {
          "output_type": "stream",
          "name": "stdout",
          "text": [
            "Precision: 0.7183734939759037\n",
            "Recall: 1.0\n",
            "F1-Score: 0.8361086765994742\n"
          ]
        },
        {
          "output_type": "display_data",
          "data": {
            "text/plain": [
              "<Figure size 640x480 with 2 Axes>"
            ],
            "image/png": "[encoded data removed]"
          },
          "metadata": {}
        }
      ]
    },
    {
      "cell_type": "code",
      "source": [
        "from sklearn.model_selection import GridSearchCV\n",
        "\n",
        "# Define the hyperparameters to tune\n",
        "param_grid = {\n",
        "    'C': [0.1, 1, 10, 100],\n",
        "    'gamma': [0.01, 0.1, 1, 10]\n",
        "}\n",
        "\n",
        "# Initialize GridSearchCV with SVM\n",
        "grid_search = GridSearchCV(SVC(kernel='rbf'), param_grid, cv=5, scoring='accuracy')\n",
        "\n",
        "# Fit the grid search to find the best hyperparameters\n",
        "grid_search.fit(X_train, y_train)\n",
        "\n",
        "# Get the best hyperparameters\n",
        "best_params = grid_search.best_params_\n",
        "print(f\"Best Hyperparameters: C = {best_params['C']}, gamma = {best_params['gamma']}\")\n"
      ],
      "metadata": {
        "colab": {
          "base_uri": "https://localhost:8080/"
        },
        "id": "nNsG7eAU7q16",
        "outputId": "32859fcc-7c68-4f15-a1a0-b514d7198aa3"
      },
      "execution_count": null,
      "outputs": [
        {
          "output_type": "stream",
          "name": "stdout",
          "text": [
            "Best Hyperparameters: C = 0.1, gamma = 0.01\n"
          ]
        }
      ]
    },
    {
      "cell_type": "code",
      "source": [
        "from sklearn.metrics import confusion_matrix, ConfusionMatrixDisplay\n",
        "\n",
        "# Generate predictions on the test set\n",
        "y_pred = grid_search.best_estimator_.predict(X_test)\n",
        "\n",
        "# Generate the confusion matrix\n",
        "cm = confusion_matrix(y_test, y_pred)\n",
        "\n",
        "# Display the confusion matrix\n",
        "cm_display = ConfusionMatrixDisplay(confusion_matrix=cm, display_labels=[\"Not Satisfied\", \"Satisfied\"])\n",
        "cm_display.plot(cmap=\"Blues\")\n"
      ],
      "metadata": {
        "colab": {
          "base_uri": "https://localhost:8080/",
          "height": 466
        },
        "id": "KIWtA5sZ8GnJ",
        "outputId": "b0a4ae05-cf2a-4bbf-c3d9-2d335292693b"
      },
      "execution_count": null,
      "outputs": [
        {
          "output_type": "execute_result",
          "data": {
            "text/plain": [
              "<sklearn.metrics._plot.confusion_matrix.ConfusionMatrixDisplay at 0x7ce7e92cd550>"
            ]
          },
          "metadata": {},
          "execution_count": 24
        },
        {
          "output_type": "display_data",
          "data": {
            "text/plain": [
              "<Figure size 640x480 with 2 Axes>"
            ],
            "image/png": "[encoded data removed]"
          },
          "metadata": {}
        }
      ]
    },
    {
      "cell_type": "code",
      "source": [
        "import pandas as pd\n",
        "from sklearn.metrics import confusion_matrix\n",
        "\n",
        "# Generate predictions on the test set\n",
        "y_pred = grid_search.best_estimator_.predict(X_test)\n",
        "\n",
        "# Generate the confusion matrix\n",
        "cm = confusion_matrix(y_test, y_pred)\n",
        "\n",
        "# Create a pandas DataFrame for the confusion matrix for better visualization\n",
        "cm_df = pd.DataFrame(cm, index=[\"Not Satisfied\", \"Satisfied\"], columns=[\"Predicted Not Satisfied\", \"Predicted Satisfied\"])\n",
        "\n",
        "# Display the confusion matrix as a table\n",
        "print(cm_df)\n"
      ],
      "metadata": {
        "colab": {
          "base_uri": "https://localhost:8080/"
        },
        "id": "CES3UiyjL1SM",
        "outputId": "ea2fc569-a531-4fe7-f1c4-dad66823b761"
      },
      "execution_count": null,
      "outputs": [
        {
          "output_type": "stream",
          "name": "stdout",
          "text": [
            "               Predicted Not Satisfied  Predicted Satisfied\n",
            "Not Satisfied                        0                  561\n",
            "Satisfied                            0                 1431\n"
          ]
        }
      ]
    },
    {
      "cell_type": "code",
      "source": [
        "from sklearn.metrics import classification_report\n",
        "\n",
        "# Generate the classification report\n",
        "report = classification_report(y_test, y_pred, target_names=[\"Not Satisfied\", \"Satisfied\"])\n",
        "print(report)\n"
      ],
      "metadata": {
        "colab": {
          "base_uri": "https://localhost:8080/"
        },
        "id": "a7uUvGtmKOXk",
        "outputId": "31fcf60e-181a-4a8c-f9c4-fe9b16b665a3"
      },
      "execution_count": null,
      "outputs": [
        {
          "output_type": "stream",
          "name": "stdout",
          "text": [
            "               precision    recall  f1-score   support\n",
            "\n",
            "Not Satisfied       0.00      0.00      0.00       561\n",
            "    Satisfied       0.72      1.00      0.84      1431\n",
            "\n",
            "     accuracy                           0.72      1992\n",
            "    macro avg       0.36      0.50      0.42      1992\n",
            " weighted avg       0.52      0.72      0.60      1992\n",
            "\n"
          ]
        },
        {
          "output_type": "stream",
          "name": "stderr",
          "text": [
            "/usr/local/lib/python3.11/dist-packages/sklearn/metrics/_classification.py:1565: UndefinedMetricWarning: Precision is ill-defined and being set to 0.0 in labels with no predicted samples. Use `zero_division` parameter to control this behavior.\n",
            "  _warn_prf(average, modifier, f\"{metric.capitalize()} is\", len(result))\n",
            "/usr/local/lib/python3.11/dist-packages/sklearn/metrics/_classification.py:1565: UndefinedMetricWarning: Precision is ill-defined and being set to 0.0 in labels with no predicted samples. Use `zero_division` parameter to control this behavior.\n",
            "  _warn_prf(average, modifier, f\"{metric.capitalize()} is\", len(result))\n",
            "/usr/local/lib/python3.11/dist-packages/sklearn/metrics/_classification.py:1565: UndefinedMetricWarning: Precision is ill-defined and being set to 0.0 in labels with no predicted samples. Use `zero_division` parameter to control this behavior.\n",
            "  _warn_prf(average, modifier, f\"{metric.capitalize()} is\", len(result))\n"
          ]
        }
      ]
    },
    {
      "cell_type": "markdown",
      "source": [
        "**1. Key Findings:**\n",
        "\n",
        "**Best Hyperparameters:**\n",
        "\n",
        "After performing Hyperparameter Tuning for the SVM model using GridSearchCV, the optimal hyperparameters were identified as:\n",
        "\n",
        "\n",
        "*   C (Regularization parameter): The best value for C was selected to achieve the best balance between model complexity and error minimization.\n",
        "\n",
        "*   Gamma: The optimal value for Gamma helped in adjusting the decision boundary for the SVM kernel, leading to better prediction performance.\n",
        "\n",
        "**Model Performance:**\n",
        "\n",
        "**Confusion Matrix:**\n",
        "\n",
        "The confusion matrix indicated a significant imbalance in predictions between the two classes. Specifically:\n",
        "\n",
        "\n",
        "*   The model predicted the \"Satisfied\" class almost exclusively (1431 instances).\n",
        "*   There were no predictions for the \"Not Satisfied\" class, showing a high bias towards predicting the majority class.\n",
        "\n",
        "\n",
        "\n",
        "\n",
        "**Evaluation Metrics:**\n",
        "\n",
        "The model’s performance was evaluated using precision, recall, and F1-score, leading to the following results:\n",
        "![Capture.PNG](data:image/png;base64,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)\n",
        "\n",
        "**2. Model Performance Analysis:**\n",
        "\n",
        "The SVM model demonstrates a high bias towards the \"Satisfied\" class and fails to recognize the \"Not Satisfied\" class, leading to very poor performance for the minority class. This suggests that class imbalance is severely affecting the model’s ability to generalize well.\n",
        "\n",
        "\n",
        "*   Accuracy is 72%, but it’s misleading because of the imbalance. The model is predicting the \"Satisfied\" class too often, which skews the results.\n",
        "*   F1-Score for \"Not Satisfied\": A value of 0.00 indicates a failure in predicting the minority class entirely\n",
        "\n",
        "\n",
        "\n",
        "\n"
      ],
      "metadata": {
        "id": "gMa_3JV0Ms6N"
      }
    },
    {
      "cell_type": "code",
      "source": [],
      "metadata": {
        "id": "44xd5jYULqgN"
      },
      "execution_count": null,
      "outputs": []
    }
  ]
}